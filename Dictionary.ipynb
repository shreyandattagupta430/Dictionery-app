{
  "nbformat": 4,
  "nbformat_minor": 0,
  "metadata": {
    "colab": {
      "name": "Dictionary.ipynb",
      "provenance": [],
      "collapsed_sections": []
    },
    "kernelspec": {
      "name": "python3",
      "display_name": "Python 3"
    },
    "language_info": {
      "name": "python"
    }
  },
  "cells": [
    {
      "cell_type": "markdown",
      "metadata": {
        "id": "j9HrYJMhfezc"
      },
      "source": [
        "DICTIONERY FUNCTIONING USING SETS VALUES"
      ]
    },
    {
      "cell_type": "code",
      "metadata": {
        "id": "HfkreACEfX2U"
      },
      "source": [
        "student = {'name':'harsh', 'age':25, 'course':['Math','Physics']}"
      ],
      "execution_count": 1,
      "outputs": []
    },
    {
      "cell_type": "code",
      "metadata": {
        "colab": {
          "base_uri": "https://localhost:8080/"
        },
        "id": "NA_q09UHgFK3",
        "outputId": "159de51a-bdc5-43e0-b1fa-8351eb2661f7"
      },
      "source": [
        "print(student) \n",
        "#prints dictionary with keys & values"
      ],
      "execution_count": 2,
      "outputs": [
        {
          "output_type": "stream",
          "text": [
            "{'name': 'harsh', 'age': 25, 'course': ['Math', 'Physics']}\n"
          ],
          "name": "stdout"
        }
      ]
    },
    {
      "cell_type": "code",
      "metadata": {
        "colab": {
          "base_uri": "https://localhost:8080/"
        },
        "id": "EmC3N0TShFz_",
        "outputId": "8f672f47-1852-47a1-eed0-4d60a5807502"
      },
      "source": [
        "print(student['name'])"
      ],
      "execution_count": 3,
      "outputs": [
        {
          "output_type": "stream",
          "text": [
            "harsh\n"
          ],
          "name": "stdout"
        }
      ]
    },
    {
      "cell_type": "code",
      "metadata": {
        "colab": {
          "base_uri": "https://localhost:8080/"
        },
        "id": "k-DeZXuqhJsg",
        "outputId": "1a1631e1-1be7-4ead-9ec4-cca4309bcd32"
      },
      "source": [
        "print(student.get('phone'))"
      ],
      "execution_count": 4,
      "outputs": [
        {
          "output_type": "stream",
          "text": [
            "None\n"
          ],
          "name": "stdout"
        }
      ]
    },
    {
      "cell_type": "code",
      "metadata": {
        "colab": {
          "base_uri": "https://localhost:8080/"
        },
        "id": "BhaXJWhThOfB",
        "outputId": "8fa2ab2e-49e4-48a7-d123-520ee3125fb6"
      },
      "source": [
        "print(student.get('name'))\n",
        "print(student.get('course'))"
      ],
      "execution_count": 5,
      "outputs": [
        {
          "output_type": "stream",
          "text": [
            "harsh\n",
            "['Math', 'Physics']\n"
          ],
          "name": "stdout"
        }
      ]
    },
    {
      "cell_type": "code",
      "metadata": {
        "id": "SmKV5QF3hTQI"
      },
      "source": [
        "student['phone'] = '999-9999'"
      ],
      "execution_count": 6,
      "outputs": []
    },
    {
      "cell_type": "code",
      "metadata": {
        "colab": {
          "base_uri": "https://localhost:8080/"
        },
        "id": "OkHqofovhbvo",
        "outputId": "48631c0f-ec66-430f-a777-9259bacfef15"
      },
      "source": [
        "student['name'] = 'akshit'\n",
        "print(student)\n",
        "#update a key"
      ],
      "execution_count": 7,
      "outputs": [
        {
          "output_type": "stream",
          "text": [
            "{'name': 'akshit', 'age': 25, 'course': ['Math', 'Physics'], 'phone': '999-9999'}\n"
          ],
          "name": "stdout"
        }
      ]
    },
    {
      "cell_type": "code",
      "metadata": {
        "colab": {
          "base_uri": "https://localhost:8080/"
        },
        "id": "GgBP0p4ihfzH",
        "outputId": "ed32ba03-9323-4268-e06b-6f148ebb3ca2"
      },
      "source": [
        "#Updating various keys in a single line of code\n",
        "\n",
        "student.update({'name':'shreyan',\n",
        "               'age': 20,\n",
        "               'phone': '9051421996'})\n",
        "print(student)"
      ],
      "execution_count": 8,
      "outputs": [
        {
          "output_type": "stream",
          "text": [
            "{'name': 'shreyan', 'age': 20, 'course': ['Math', 'Physics'], 'phone': '9051421996'}\n"
          ],
          "name": "stdout"
        }
      ]
    },
    {
      "cell_type": "code",
      "metadata": {
        "colab": {
          "base_uri": "https://localhost:8080/"
        },
        "id": "lUUSogl0hj8g",
        "outputId": "ef3ff16a-3092-408e-8a63-9afa5d0c0ccd"
      },
      "source": [
        "print(student.keys())"
      ],
      "execution_count": 9,
      "outputs": [
        {
          "output_type": "stream",
          "text": [
            "dict_keys(['name', 'age', 'course', 'phone'])\n"
          ],
          "name": "stdout"
        }
      ]
    },
    {
      "cell_type": "code",
      "metadata": {
        "colab": {
          "base_uri": "https://localhost:8080/"
        },
        "id": "1ScNmMHzhoB_",
        "outputId": "03acc70d-d686-422d-b4ac-4dc044219512"
      },
      "source": [
        "#Prints valuess from the dictionary\n",
        "\n",
        "print(student.values())"
      ],
      "execution_count": 10,
      "outputs": [
        {
          "output_type": "stream",
          "text": [
            "dict_values(['shreyan', 20, ['Math', 'Physics'], '9051421996'])\n"
          ],
          "name": "stdout"
        }
      ]
    },
    {
      "cell_type": "code",
      "metadata": {
        "id": "qjSXgHfahwI6"
      },
      "source": [
        "#Iteration and printing only keys from the dictionary"
      ],
      "execution_count": 11,
      "outputs": []
    },
    {
      "cell_type": "code",
      "metadata": {
        "colab": {
          "base_uri": "https://localhost:8080/"
        },
        "id": "ZFphRoUHh3BP",
        "outputId": "efd41375-f66c-4641-cdfa-6254133f622a"
      },
      "source": [
        "for key in student:\n",
        "    print(key)"
      ],
      "execution_count": 12,
      "outputs": [
        {
          "output_type": "stream",
          "text": [
            "name\n",
            "age\n",
            "course\n",
            "phone\n"
          ],
          "name": "stdout"
        }
      ]
    }
  ]
}